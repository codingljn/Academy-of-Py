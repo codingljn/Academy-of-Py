{
 "cells": [
  {
   "cell_type": "code",
   "execution_count": 1,
   "metadata": {},
   "outputs": [],
   "source": [
    "# Import Dependencies\n",
    "import numpy as np\n",
    "import matplotlib.pyplot as plt"
   ]
  },
  {
   "cell_type": "code",
   "execution_count": 2,
   "metadata": {},
   "outputs": [],
   "source": [
    "# DATASET 1\n",
    "gyms = [\"Crunch\", \"Planet Fitness\", \"NY Sports Club\", \"Rickie's Gym\"]\n",
    "members = [49, 92, 84, 53]"
   ]
  },
  {
   "cell_type": "code",
   "execution_count": 19,
   "metadata": {},
   "outputs": [
    {
     "data": {
      "image/png": "[encoded data removed]",
      "text/plain": [
       "<Figure size 432x288 with 1 Axes>"
      ]
     },
     "metadata": {
      "needs_background": "light"
     },
     "output_type": "display_data"
    }
   ],
   "source": [
    "# Create plot\n",
    "x_axis = np.arange(0, len(gyms))\n",
    "    \n",
    "plt.title(\"Gym Size\")\n",
    "plt.xlabel(\"Gym Name\")\n",
    "plt.ylabel(\"Members\")\n",
    "\n",
    "plt.xlim(-0.5, len(gyms)-0.5)\n",
    "plt.ylim(0, max(members))\n",
    "\n",
    "plt.bar(x_axis, members, color=\"y\", alpha=0.5, align=\"center\")\n",
    "plt.xticks(tick_locations, gyms)\n",
    "plt.show()"
   ]
  },
  {
   "cell_type": "code",
   "execution_count": 21,
   "metadata": {},
   "outputs": [],
   "source": [
    "# DATASET 2\n",
    "x_lim = 2 * np.pi\n",
    "x_axis = np.arange(0, x_lim, 0.1)\n",
    "sin = np.sin(x_axis)"
   ]
  },
  {
   "cell_type": "code",
   "execution_count": 33,
   "metadata": {},
   "outputs": [
    {
     "data": {
      "image/png": "[encoded data removed]",
      "text/plain": [
       "<Figure size 432x288 with 1 Axes>"
      ]
     },
     "metadata": {
      "needs_background": "light"
     },
     "output_type": "display_data"
    }
   ],
   "source": [
    "# Create plot\n",
    "plt.title(\"Sin plot\")\n",
    "plt.xlabel(\"Real Numbers\")\n",
    "plt.ylabel(\"sin(x)\")\n",
    "\n",
    "plt.hlines(0, 0, x_lim, alpha=0.2)\n",
    "plt.xlim(0, x_lim)\n",
    "plt.ylim(-1.25, 1.25)\n",
    "\n",
    "plt.plot(x_axis, sin, marker=\"^\", color=\"magenta\", linewidth=1)\n",
    "plt.show()"
   ]
  },
  {
   "cell_type": "code",
   "execution_count": null,
   "metadata": {},
   "outputs": [],
   "source": [
    "# DATASET 3\n",
    "gyms = [\"Crunch\", \"Planet Fitness\", \"NY Sports Club\", \"Rickie's Gym\"]\n",
    "members = [49, 92, 84, 53]\n",
    "x_axis = np.arange(0, len(gyms))\n",
    "colors = [\"yellowgreen\", \"red\", \"lightcoral\", \"lightskyblue\"]\n",
    "explode = (0, 0.05, 0, 0)"
   ]
  },
  {
   "cell_type": "code",
   "execution_count": null,
   "metadata": {},
   "outputs": [],
   "source": [
    "# Create plot\n",
    "plt.title(\"Gym Members\")\n",
    "plt.pie(members, explode=explode, labels=gyms, colors=colors,\n",
    "        autopct=\"%1.1f%%\", shadow=True, startangle=90)\n",
    "plt.axis(\"equal\")\n",
    "plt.show()"
   ]
  },
  {
   "cell_type": "code",
   "execution_count": null,
   "metadata": {},
   "outputs": [],
   "source": [
    "# DATASET 4\n",
    "x_axis = np.arange(0, 10, 0.1)\n",
    "times = []"
   ]
  },
  {
   "cell_type": "code",
   "execution_count": null,
   "metadata": {},
   "outputs": [],
   "source": [
    "for x in x_axis:\n",
    "    times.append(x * x + np.random.randint(0, np.ceil(max(x_axis))))"
   ]
  },
  {
   "cell_type": "code",
   "execution_count": null,
   "metadata": {},
   "outputs": [],
   "source": [
    "plt.title(\"Axis Title Here\")\n",
    "plt.xlabel(\"This has a Title\")\n",
    "plt.ylabel(\"Times\")\n",
    "\n",
    "plt.scatter(x_axis, times, marker=\"o\", color=\"red\")\n",
    "plt.show()"
   ]
  }
 ],
 "metadata": {
  "kernelspec": {
   "display_name": "Python 3",
   "language": "python",
   "name": "python3"
  },
  "language_info": {
   "codemirror_mode": {
    "name": "ipython",
    "version": 3
   },
   "file_extension": ".py",
   "mimetype": "text/x-python",
   "name": "python",
   "nbconvert_exporter": "python",
   "pygments_lexer": "ipython3",
   "version": "3.6.6"
  }
 },
 "nbformat": 4,
 "nbformat_minor": 2
}
